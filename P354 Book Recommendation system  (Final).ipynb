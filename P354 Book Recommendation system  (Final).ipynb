{
 "cells": [
  {
   "cell_type": "code",
   "execution_count": 4,
   "id": "d8f314ba",
   "metadata": {
    "is_executing": true
   },
   "outputs": [],
   "source": [
    "import numpy as np\n",
    "import pandas as pd"
   ]
  },
  {
   "cell_type": "code",
   "execution_count": 3,
   "id": "163c20f3",
   "metadata": {},
   "outputs": [],
   "source": [
    "\n",
    "\n",
    "book_df = pd.read_csv(\"C:\\\\Users\\\\King\\\\Downloads\\\\Books.csv\", low_memory=False, on_bad_lines='skip', encoding='latin-1')\n",
    "user_df = pd.read_csv(\"C:\\\\Users\\\\King\\\\Downloads\\\\Users.csv\", low_memory=False, on_bad_lines='skip', encoding='latin-1')\n",
    "rating_df = pd.read_csv(\"C:\\\\Users\\\\King\\\\Downloads\\\\Ratings (1).csv\", low_memory=False, on_bad_lines='skip', encoding='latin-1')"
   ]
  },
  {
   "cell_type": "code",
   "execution_count": null,
   "id": "30ad4c3c",
   "metadata": {},
   "outputs": [],
   "source": [
    "user_df.head()"
   ]
  },
  {
   "cell_type": "code",
   "execution_count": null,
   "id": "637cad9a",
   "metadata": {},
   "outputs": [],
   "source": [
    "book_df.head(3)"
   ]
  },
  {
   "cell_type": "code",
   "execution_count": null,
   "id": "1322f2b2",
   "metadata": {},
   "outputs": [],
   "source": [
    "rating_df.head(3)"
   ]
  },
  {
   "cell_type": "code",
   "execution_count": null,
   "id": "447f353d",
   "metadata": {},
   "outputs": [],
   "source": [
    "print('This shape of Books datasheet is : ',book_df.shape)\n",
    "print('='*30)\n",
    "print('This shape of Ratings datasheet is : ',rating_df.shape)\n",
    "print('='*30)\n",
    "print('This shape of Users datasheet is : ',user_df.shape)"
   ]
  },
  {
   "cell_type": "code",
   "execution_count": null,
   "id": "463c4bd9",
   "metadata": {},
   "outputs": [],
   "source": [
    "print(book_df.info())"
   ]
  },
  {
   "cell_type": "code",
   "execution_count": null,
   "id": "f2664eed",
   "metadata": {
    "scrolled": true
   },
   "outputs": [],
   "source": [
    "print(book_df.isnull().sum())"
   ]
  },
  {
   "cell_type": "markdown",
   "id": "ba45e6a6",
   "metadata": {},
   "source": [
    "#### Checking  for  null value in book author"
   ]
  },
  {
   "cell_type": "code",
   "execution_count": null,
   "id": "ae4cf80d",
   "metadata": {},
   "outputs": [],
   "source": [
    "book_df[book_df['Book-Author'].isna()]"
   ]
  },
  {
   "cell_type": "markdown",
   "id": "92e4ff4b",
   "metadata": {},
   "source": [
    "#### Filling the null value"
   ]
  },
  {
   "cell_type": "code",
   "execution_count": null,
   "id": "cedea01d",
   "metadata": {},
   "outputs": [],
   "source": [
    "book_df.loc[187689, 'Book-Author'] = 'Larissa Anne Downes'"
   ]
  },
  {
   "cell_type": "markdown",
   "id": "cc4219ce",
   "metadata": {},
   "source": [
    "#### Checking null values in publisher"
   ]
  },
  {
   "cell_type": "code",
   "execution_count": null,
   "id": "0a5f72bc",
   "metadata": {},
   "outputs": [],
   "source": [
    "book_df[book_df['Publisher'].isna()]"
   ]
  },
  {
   "cell_type": "markdown",
   "id": "84ea65b9",
   "metadata": {},
   "source": [
    "#### Replacing NaNs with correct  values"
   ]
  },
  {
   "cell_type": "code",
   "execution_count": null,
   "id": "62b3a10b",
   "metadata": {},
   "outputs": [],
   "source": [
    "book_df.loc[128890, 'Publisher'] = 'Mundania Press LLC'\n",
    "book_df.loc[129037, 'Publisher'] = 'NovelBooks, Incorporated,'"
   ]
  },
  {
   "cell_type": "markdown",
   "id": "34aa9e9e",
   "metadata": {},
   "source": [
    "#### insepcting the values in year of publication"
   ]
  },
  {
   "cell_type": "code",
   "execution_count": null,
   "id": "97421eac",
   "metadata": {},
   "outputs": [],
   "source": [
    "book_df['Year-Of-Publication'].unique()"
   ]
  },
  {
   "cell_type": "markdown",
   "id": "05124b18",
   "metadata": {},
   "source": [
    "Name of few publication companies have been incorrectly put in this column.There are values such as 0 ,2024,2030 , 2037 etc. which is also not possible .Let's rectify these mistakes"
   ]
  },
  {
   "cell_type": "markdown",
   "id": "18dceff6",
   "metadata": {},
   "source": [
    "#### correcting this error"
   ]
  },
  {
   "cell_type": "code",
   "execution_count": null,
   "id": "e162806c",
   "metadata": {},
   "outputs": [],
   "source": [
    "book_df[book_df['Year-Of-Publication'] == 'DK Publishing Inc']"
   ]
  },
  {
   "cell_type": "markdown",
   "id": "33779355",
   "metadata": {},
   "source": [
    "#### Update book information for ISBN '078946697X'"
   ]
  },
  {
   "cell_type": "code",
   "execution_count": null,
   "id": "af5000fa",
   "metadata": {},
   "outputs": [],
   "source": [
    "book_df.loc[book_df.ISBN == '078946697X', ['Year-Of-Publication', 'Book-Author', 'Publisher', 'Book-Title']] = \\\n",
    "    2000, \"Michael Teitelbaum\", \"DK Publishing Inc\", \"DK Readers: Creating the X-Men, How It All Began (Level 4: Proficient Readers)\"\n"
   ]
  },
  {
   "cell_type": "markdown",
   "id": "b523a87f",
   "metadata": {},
   "source": [
    "#### Update book information for ISBN '0789466953'"
   ]
  },
  {
   "cell_type": "code",
   "execution_count": null,
   "id": "525117cf",
   "metadata": {},
   "outputs": [],
   "source": [
    "book_df.loc[book_df.ISBN == '0789466953', ['Year-Of-Publication', 'Book-Author', 'Publisher', 'Book-Title']] = \\\n",
    "    2000, \"James Buckley\", \"DK Publishing Inc\", \"DK Readers: Creating the X-Men, How Comic Books Come to Life (Level 4: Proficient Readers)\""
   ]
  },
  {
   "cell_type": "markdown",
   "id": "527f875e",
   "metadata": {},
   "source": [
    "#### checking the rows having 'Gallimard' as yearOfPublication"
   ]
  },
  {
   "cell_type": "code",
   "execution_count": null,
   "id": "7c7a295a",
   "metadata": {},
   "outputs": [],
   "source": [
    "book_df.loc[book_df['Year-Of-Publication'] == 'Gallimard',:]"
   ]
  },
  {
   "cell_type": "code",
   "execution_count": null,
   "id": "363ed0f6",
   "metadata": {},
   "outputs": [],
   "source": [
    "book_df.loc[book_df.ISBN=='2070426769','Year-Of-Publication']=2003\n",
    "book_df.loc[book_df.ISBN=='2070426769','Book-Author']='Jean-Marie Gustave Le ClÃ?Â©zio'\n",
    "book_df.loc[book_df.ISBN=='2070426769','Publisher']='Gallimard'\n",
    "book_df.loc[book_df.ISBN=='2070426769','Book-Title']=\"Peuple du ciel, suivi de 'Les Bergers\""
   ]
  },
  {
   "cell_type": "markdown",
   "id": "471c4768",
   "metadata": {},
   "source": [
    "#### Checking if the corrections are in place"
   ]
  },
  {
   "cell_type": "code",
   "execution_count": null,
   "id": "efb36bd7",
   "metadata": {},
   "outputs": [],
   "source": [
    "book_df.loc[book_df['ISBN'].isin(['2070426769','0789466953','078946697X'])]"
   ]
  },
  {
   "cell_type": "code",
   "execution_count": null,
   "id": "7e26f340",
   "metadata": {},
   "outputs": [],
   "source": [
    "book_df['Year-Of-Publication'].describe()"
   ]
  },
  {
   "cell_type": "markdown",
   "id": "ad1a2d77",
   "metadata": {},
   "source": [
    "#### changing dtype of year of publication"
   ]
  },
  {
   "cell_type": "code",
   "execution_count": null,
   "id": "6f6ac60a",
   "metadata": {},
   "outputs": [],
   "source": [
    "book_df['Year-Of-Publication'] =book_df['Year-Of-Publication'].astype(int)"
   ]
  },
  {
   "cell_type": "code",
   "execution_count": null,
   "id": "9e489b28",
   "metadata": {},
   "outputs": [],
   "source": [
    "book_df['Year-Of-Publication'].describe()"
   ]
  },
  {
   "cell_type": "markdown",
   "id": "9309c027",
   "metadata": {},
   "source": [
    "#### something is off about years of publication like:"
   ]
  },
  {
   "cell_type": "code",
   "execution_count": null,
   "id": "df1184a8",
   "metadata": {},
   "outputs": [],
   "source": [
    "book_df[(book_df['Year-Of-Publication'] > 0) & (book_df['Year-Of-Publication'] < 1800)]"
   ]
  },
  {
   "cell_type": "markdown",
   "id": "80296911",
   "metadata": {},
   "source": [
    "#### replacing with correct  values"
   ]
  },
  {
   "cell_type": "code",
   "execution_count": null,
   "id": "69052603",
   "metadata": {},
   "outputs": [],
   "source": [
    "book_df.loc[book_df.ISBN=='\t9643112136','Year-Of-Publication'] = 2010\n",
    "book_df.loc[book_df.ISBN=='964442011X', 'Year-Of-Publication'] = 1991"
   ]
  },
  {
   "cell_type": "markdown",
   "id": "1d1bba7d",
   "metadata": {},
   "source": [
    "#### Sustituting np.Nan in rows with year=0 or  greater than the current year,2022."
   ]
  },
  {
   "cell_type": "code",
   "execution_count": null,
   "id": "5d0f6e50",
   "metadata": {},
   "outputs": [],
   "source": [
    "book_df.loc[(book_df['Year-Of-Publication'] > 2022) | (book_df['Year-Of-Publication'] == 0),'Year-Of-Publication'] = np.NAN\n"
   ]
  },
  {
   "cell_type": "markdown",
   "id": "e0a8b566",
   "metadata": {},
   "source": [
    "\n",
    "#### replacing NaN values with median value of Year-Of-Publication"
   ]
  },
  {
   "cell_type": "code",
   "execution_count": null,
   "id": "c8511b06",
   "metadata": {},
   "outputs": [],
   "source": [
    "book_df['Year-Of-Publication'].fillna(int(book_df['Year-Of-Publication'].median()), inplace=True)"
   ]
  },
  {
   "cell_type": "code",
   "execution_count": null,
   "id": "c90e9147",
   "metadata": {},
   "outputs": [],
   "source": [
    "book_df['Book-Author'].value_counts()"
   ]
  },
  {
   "cell_type": "code",
   "execution_count": null,
   "id": "a3eb9a3c",
   "metadata": {
    "scrolled": true
   },
   "outputs": [],
   "source": [
    "book_df['Publisher'].value_counts()"
   ]
  },
  {
   "cell_type": "markdown",
   "id": "1c8fa100",
   "metadata": {},
   "source": [
    "#### Inspecting the missing values in 'Publisher' column"
   ]
  },
  {
   "cell_type": "code",
   "execution_count": null,
   "id": "dc5a9868",
   "metadata": {},
   "outputs": [],
   "source": [
    "book_df.loc[book_df.Publisher.isnull(),:]"
   ]
  },
  {
   "cell_type": "code",
   "execution_count": null,
   "id": "a3786059",
   "metadata": {},
   "outputs": [],
   "source": [
    "book_df.duplicated().sum()"
   ]
  },
  {
   "cell_type": "markdown",
   "id": "70980fcd",
   "metadata": {},
   "source": [
    "#### Uppercasing the ISBN numbers and Book-Author name"
   ]
  },
  {
   "cell_type": "code",
   "execution_count": null,
   "id": "067e6ce7",
   "metadata": {},
   "outputs": [],
   "source": [
    "book_df['ISBN']=book_df['ISBN'].str.upper()\n",
    "book_df['Book-Author']=book_df['Book-Author'].str.upper()"
   ]
  },
  {
   "cell_type": "markdown",
   "id": "77df177f",
   "metadata": {},
   "source": [
    "#### Checking for duplicates in books_df"
   ]
  },
  {
   "cell_type": "code",
   "execution_count": null,
   "id": "fd53dd46",
   "metadata": {},
   "outputs": [],
   "source": [
    "book_df[book_df.duplicated()]   "
   ]
  },
  {
   "cell_type": "code",
   "execution_count": null,
   "id": "0a581990",
   "metadata": {},
   "outputs": [],
   "source": [
    "book_df.duplicated().sum()"
   ]
  },
  {
   "cell_type": "markdown",
   "id": "9753ecfe",
   "metadata": {},
   "source": [
    "#### Dropping the rows with the entire column values are duplicated"
   ]
  },
  {
   "cell_type": "code",
   "execution_count": null,
   "id": "b5629841",
   "metadata": {},
   "outputs": [],
   "source": [
    "book_df.drop_duplicates(keep=\"first\",inplace=True)\n",
    "book_df.reset_index(drop=True,inplace=True)  "
   ]
  },
  {
   "cell_type": "code",
   "execution_count": null,
   "id": "816e5e19",
   "metadata": {},
   "outputs": [],
   "source": [
    "book_df.duplicated().sum()"
   ]
  },
  {
   "cell_type": "markdown",
   "id": "3ff201cf",
   "metadata": {},
   "source": [
    "# **Users Data**\n",
    "\n",
    "\n",
    "---\n",
    "\n",
    "\n"
   ]
  },
  {
   "cell_type": "markdown",
   "id": "eadf3f52",
   "metadata": {},
   "source": [
    "#### displaying the top 10 and bottom 10 rows of the dataframe"
   ]
  },
  {
   "cell_type": "code",
   "execution_count": null,
   "id": "e3078c2c",
   "metadata": {},
   "outputs": [],
   "source": [
    "pd.concat([user_df.head(10),user_df.tail(10)],axis=0)"
   ]
  },
  {
   "cell_type": "markdown",
   "id": "01c48e0d",
   "metadata": {},
   "source": [
    "#### inspecting the columns in users_df"
   ]
  },
  {
   "cell_type": "code",
   "execution_count": null,
   "id": "be63487a",
   "metadata": {},
   "outputs": [],
   "source": [
    "user_df.info()"
   ]
  },
  {
   "cell_type": "markdown",
   "id": "01f158ac",
   "metadata": {},
   "source": [
    "* There are records of 278858 users in this dataframe.There are 3 columns in this dataframe.\n",
    "* The 'Age' column has null values"
   ]
  },
  {
   "cell_type": "code",
   "execution_count": null,
   "id": "7815cca5",
   "metadata": {},
   "outputs": [],
   "source": [
    "user_df['Age'].isnull()"
   ]
  },
  {
   "cell_type": "markdown",
   "id": "dceb9429",
   "metadata": {},
   "source": [
    "#### How much missing values in users_df"
   ]
  },
  {
   "cell_type": "code",
   "execution_count": null,
   "id": "12723364",
   "metadata": {
    "scrolled": true
   },
   "outputs": [],
   "source": [
    "print(user_df.isnull().sum())"
   ]
  },
  {
   "cell_type": "markdown",
   "id": "19f8db50",
   "metadata": {},
   "source": [
    "#### Percentage of missing values in users_df"
   ]
  },
  {
   "cell_type": "code",
   "execution_count": null,
   "id": "315ebc90",
   "metadata": {},
   "outputs": [],
   "source": [
    "print(user_df.isnull().sum()/len(user_df)*100)"
   ]
  },
  {
   "cell_type": "markdown",
   "id": "0aa686a1",
   "metadata": {},
   "source": [
    "#### summarizing data in 'Age' column"
   ]
  },
  {
   "cell_type": "code",
   "execution_count": null,
   "id": "fdfc6292",
   "metadata": {},
   "outputs": [],
   "source": [
    "user_df['Age'].describe()"
   ]
  },
  {
   "cell_type": "markdown",
   "id": "89ab8f2b",
   "metadata": {},
   "source": [
    "* The maximum value in the 'Age' column is 244. This is certainly an outlier."
   ]
  },
  {
   "cell_type": "code",
   "execution_count": null,
   "id": "17dfd434",
   "metadata": {},
   "outputs": [],
   "source": [
    "import seaborn as sns\n",
    "sns.set_style('white')\n",
    "import matplotlib.pyplot as plt"
   ]
  },
  {
   "cell_type": "code",
   "execution_count": null,
   "id": "24c9ee01",
   "metadata": {},
   "outputs": [],
   "source": [
    "#Histogram showing distribution of ages\n",
    "fig=plt.figure(figsize=(12,6))\n",
    "plt.subplot(1,2,1)\n",
    "sns.histplot(x='Age',data=user_df)\n",
    "\n",
    "#boxplot of Age column\n",
    "plt.subplot(1,2,2)\n",
    "sns.boxplot(x='Age',data=user_df)"
   ]
  },
  {
   "cell_type": "markdown",
   "id": "82e1f1d0",
   "metadata": {},
   "source": [
    "* Most of the users are from the age group 25-50\n",
    "* It is highly unlikely to have users under the age of 4 and above 100.The peaks near 0 and 100 in the kdeplot indicates that there are some outlier values in the 'Age' column"
   ]
  },
  {
   "cell_type": "markdown",
   "id": "a7689ba2",
   "metadata": {},
   "source": [
    "#### replacing the outliers in 'Age' with NaN value"
   ]
  },
  {
   "cell_type": "code",
   "execution_count": null,
   "id": "4c7d46e8",
   "metadata": {},
   "outputs": [],
   "source": [
    "user_df.loc[(user_df['Age']>95)|(user_df['Age']<4),'Age']=np.nan"
   ]
  },
  {
   "cell_type": "markdown",
   "id": "f7f8ee26",
   "metadata": {},
   "source": [
    "#### Calculate mean age and  Fill missing values with mean age"
   ]
  },
  {
   "cell_type": "code",
   "execution_count": null,
   "id": "80bd5e22",
   "metadata": {},
   "outputs": [],
   "source": [
    "mean_age = user_df['Age'].mean()\n",
    "\n",
    "user_df['Age'].fillna(mean_age, inplace=True)\n"
   ]
  },
  {
   "cell_type": "markdown",
   "id": "2b2f4904",
   "metadata": {},
   "source": [
    "#### percentage of missing values in 'Age' column"
   ]
  },
  {
   "cell_type": "code",
   "execution_count": null,
   "id": "16ede2b5",
   "metadata": {},
   "outputs": [],
   "source": [
    "(user_df['Age'].isnull().sum()/len(user_df))*100\n"
   ]
  },
  {
   "cell_type": "markdown",
   "id": "a3998934",
   "metadata": {},
   "source": [
    "# Now let's inspect the 'Location' column."
   ]
  },
  {
   "cell_type": "code",
   "execution_count": null,
   "id": "ca631715",
   "metadata": {},
   "outputs": [],
   "source": [
    "top_locations = user_df['Location'].value_counts().head(10)\n",
    "print(\"Top locations by user count:\")\n",
    "print(top_locations)"
   ]
  },
  {
   "cell_type": "markdown",
   "id": "7a250fed",
   "metadata": {},
   "source": [
    "#### number of unique values in 'Location'"
   ]
  },
  {
   "cell_type": "code",
   "execution_count": null,
   "id": "348c3f2e",
   "metadata": {},
   "outputs": [],
   "source": [
    "user_df['Location'].nunique()"
   ]
  },
  {
   "cell_type": "markdown",
   "id": "f42409ea",
   "metadata": {},
   "source": [
    "### Extracting country names from the \"Location\" column"
   ]
  },
  {
   "cell_type": "code",
   "execution_count": null,
   "id": "181df660",
   "metadata": {},
   "outputs": [],
   "source": [
    "user_df['Country'] = user_df['Location'].str.extract(r'\\,+\\s?(\\w*\\s?\\w*)\\\"*$')\n"
   ]
  },
  {
   "cell_type": "code",
   "execution_count": null,
   "id": "06cd2e16",
   "metadata": {},
   "outputs": [],
   "source": [
    "user_df['Country'] "
   ]
  },
  {
   "cell_type": "code",
   "execution_count": null,
   "id": "dfa55a8d",
   "metadata": {},
   "outputs": [],
   "source": [
    "top_countries = user_df['Country'].value_counts().head(5)\n",
    "print(\"Top countries by user count:\")\n",
    "print(top_countries)"
   ]
  },
  {
   "cell_type": "markdown",
   "id": "30cd1c02",
   "metadata": {},
   "source": [
    "## **Ratings data**\n",
    "\n",
    "\n",
    "---\n"
   ]
  },
  {
   "cell_type": "markdown",
   "id": "edf76e6b",
   "metadata": {},
   "source": [
    "#### displaying the first 5 rows"
   ]
  },
  {
   "cell_type": "code",
   "execution_count": null,
   "id": "0fadba1d",
   "metadata": {},
   "outputs": [],
   "source": [
    "rating_df.head()"
   ]
  },
  {
   "cell_type": "code",
   "execution_count": null,
   "id": "5d5c57f3",
   "metadata": {},
   "outputs": [],
   "source": [
    "rating_df.info()"
   ]
  },
  {
   "cell_type": "markdown",
   "id": "e3d1e0d1",
   "metadata": {},
   "source": [
    "#### checking null values"
   ]
  },
  {
   "cell_type": "code",
   "execution_count": null,
   "id": "135b9cc4",
   "metadata": {},
   "outputs": [],
   "source": [
    "rating_df.isna().sum()"
   ]
  },
  {
   "cell_type": "markdown",
   "id": "0bfcd63b",
   "metadata": {},
   "source": [
    "#### checking for unique user ids and isbn values"
   ]
  },
  {
   "cell_type": "code",
   "execution_count": null,
   "id": "4a4608a4",
   "metadata": {},
   "outputs": [],
   "source": [
    "unique_user_ids = rating_df['User-ID'].nunique()\n",
    "unique_isbn_values = rating_df['ISBN'].nunique()\n",
    "print(\"Number of unique user ids is\", unique_user_ids, \"and ISBN no. is\", unique_isbn_values)\n"
   ]
  },
  {
   "cell_type": "markdown",
   "id": "f1c03cf8",
   "metadata": {},
   "source": [
    "> *This means that many users are buying multiple books. Also some books are really famous and hence are bought by multiple users.*\n"
   ]
  },
  {
   "cell_type": "markdown",
   "id": "23b17d19",
   "metadata": {},
   "source": [
    "#### checking for duplicates"
   ]
  },
  {
   "cell_type": "code",
   "execution_count": null,
   "id": "795700ca",
   "metadata": {},
   "outputs": [],
   "source": [
    "rating_df[rating_df.duplicated()].sum()"
   ]
  },
  {
   "cell_type": "markdown",
   "id": "91534ba6",
   "metadata": {},
   "source": [
    "#### lets see if all the books in rating_df are also in books_df"
   ]
  },
  {
   "cell_type": "code",
   "execution_count": null,
   "id": "02506356",
   "metadata": {},
   "outputs": [],
   "source": [
    "rating_df_new = rating_df[rating_df['ISBN'].isin(book_df['ISBN'])]"
   ]
  },
  {
   "cell_type": "code",
   "execution_count": null,
   "id": "05fe2ac7",
   "metadata": {},
   "outputs": [],
   "source": [
    "rating_df_shape = rating_df.shape\n",
    "rating_df_new_shape = rating_df_new.shape\n",
    "print(\"Shape of rating_df:\", rating_df_shape, \"and rating_df_new:\", rating_df_new_shape)\n"
   ]
  },
  {
   "cell_type": "markdown",
   "id": "fe4b8e76",
   "metadata": {},
   "source": [
    "1149780 - 030617 = 119163 , there are 119163 ISBN number is not there in Book dataset"
   ]
  },
  {
   "cell_type": "code",
   "execution_count": null,
   "id": "54253a0b",
   "metadata": {},
   "outputs": [],
   "source": [
    "rating_df_new['Book-Rating'].value_counts().reset_index()"
   ]
  },
  {
   "cell_type": "markdown",
   "id": "6ab1a3c9",
   "metadata": {},
   "source": [
    "The majority of books (646,974) in the dataset have received an implicit rating, we can observe that ratings of 8, 10, 7, and 9 are the most common explicit ratings given by users to the books in the dataset, with ratings of 8 being the most prevalent among them."
   ]
  },
  {
   "cell_type": "markdown",
   "id": "1ba21001",
   "metadata": {},
   "source": [
    "##### most popular books"
   ]
  },
  {
   "cell_type": "code",
   "execution_count": null,
   "id": "159cf6e8",
   "metadata": {},
   "outputs": [],
   "source": [
    "rating_df_new.groupby('ISBN')['Book-Rating'].count().reset_index().sort_values(by='Book-Rating', ascending=False)[:10]"
   ]
  },
  {
   "cell_type": "markdown",
   "id": "9d8033c9",
   "metadata": {},
   "source": [
    "\n",
    "> *but this contains both explicit and implicit rating, so we need to seperate them to get better idea.*\n"
   ]
  },
  {
   "cell_type": "code",
   "execution_count": null,
   "id": "381045a5",
   "metadata": {},
   "outputs": [],
   "source": [
    "explicit_rating = rating_df_new[rating_df_new['Book-Rating'] != 0]\n",
    "implicit_rating = rating_df_new[rating_df_new['Book-Rating'] == 0]\n",
    "print('Shape of explicit rating: {} and implicit rating: {}'.format(explicit_rating.shape, implicit_rating.shape))"
   ]
  },
  {
   "cell_type": "code",
   "execution_count": null,
   "id": "47e96c36",
   "metadata": {},
   "outputs": [],
   "source": [
    "explicit_shape = explicit_rating.shape\n",
    "implicit_shape = implicit_rating.shape\n",
    "print(\"Shape of explicit rating:\", explicit_shape, \"and implicit rating:\", implicit_shape)\n"
   ]
  },
  {
   "cell_type": "markdown",
   "id": "a890494d",
   "metadata": {},
   "source": [
    "### most purchased books including the implicitely rated books"
   ]
  },
  {
   "cell_type": "code",
   "execution_count": null,
   "id": "12200193",
   "metadata": {},
   "outputs": [],
   "source": [
    "implicit_rating.groupby('ISBN')['User-ID'].count().reset_index().sort_values(by='User-ID', ascending=False)[:10]['ISBN'].values"
   ]
  },
  {
   "cell_type": "markdown",
   "id": "11e59a76",
   "metadata": {},
   "source": [
    "#### getting the book names corresponding to these ISBNs"
   ]
  },
  {
   "cell_type": "code",
   "execution_count": null,
   "id": "545a26a1",
   "metadata": {},
   "outputs": [],
   "source": [
    "isbn_nums = ['0971880107', '0316666343', '0060928336', '0385504209',\n",
    "       '044023722X', '067976402X', '0440214041', '0312195516',\n",
    "       '0804106304', '0375727345']\n",
    "book_df[book_df['ISBN'].isin(isbn_nums)]"
   ]
  },
  {
   "cell_type": "markdown",
   "id": "75ed0c4d",
   "metadata": {},
   "source": [
    "### most popular explicitely rated books"
   ]
  },
  {
   "cell_type": "code",
   "execution_count": null,
   "id": "2f226a20",
   "metadata": {},
   "outputs": [],
   "source": [
    "explicit_rating.groupby('ISBN')['Book-Rating'].count().reset_index().sort_values(by='Book-Rating', ascending=False)[:10]"
   ]
  },
  {
   "cell_type": "markdown",
   "id": "0e6525ad",
   "metadata": {},
   "source": [
    "### getting the book names corresponding to these ISBNs"
   ]
  },
  {
   "cell_type": "code",
   "execution_count": null,
   "id": "a177f750",
   "metadata": {},
   "outputs": [],
   "source": [
    "isbn_nums = ['0316666343', '0971880107', '0385504209', '0312195516', '0060928336']\n",
    "book_df[book_df['ISBN'].isin(isbn_nums)]"
   ]
  },
  {
   "cell_type": "markdown",
   "id": "c53ee64b",
   "metadata": {},
   "source": [
    "\n",
    "> *therefore the most popular book is 'The Lovely Bones: A Novel'*\n"
   ]
  },
  {
   "cell_type": "code",
   "execution_count": null,
   "id": "7f973ecc",
   "metadata": {},
   "outputs": [],
   "source": [
    "merged_df = pd.merge(book_df, explicit_rating, on = 'ISBN')\n",
    "df_new = pd.merge(merged_df,user_df, on = 'User-ID' )"
   ]
  },
  {
   "cell_type": "code",
   "execution_count": null,
   "id": "7a431cbb",
   "metadata": {},
   "outputs": [],
   "source": [
    "df_new"
   ]
  },
  {
   "cell_type": "code",
   "execution_count": null,
   "id": "c1b7cacb",
   "metadata": {},
   "outputs": [],
   "source": [
    "df_new.shape"
   ]
  },
  {
   "cell_type": "code",
   "execution_count": null,
   "id": "e27f4ac2",
   "metadata": {},
   "outputs": [],
   "source": [
    "df_new.isnull().sum()"
   ]
  },
  {
   "cell_type": "code",
   "execution_count": null,
   "id": "aba005bc",
   "metadata": {},
   "outputs": [],
   "source": [
    "df_new.duplicated().sum()"
   ]
  },
  {
   "cell_type": "code",
   "execution_count": null,
   "id": "f50657e5",
   "metadata": {},
   "outputs": [],
   "source": [
    "df_new.info()"
   ]
  },
  {
   "cell_type": "code",
   "execution_count": null,
   "id": "4039c904",
   "metadata": {},
   "outputs": [],
   "source": [
    "df_new['Year-Of-Publication'] = df_new['Year-Of-Publication'].astype(int)"
   ]
  },
  {
   "cell_type": "markdown",
   "id": "9ce95cf0",
   "metadata": {},
   "source": [
    "# Exploratory data analysis"
   ]
  },
  {
   "cell_type": "markdown",
   "id": "af2c5c68",
   "metadata": {},
   "source": [
    "### Top 10 Books read by the users."
   ]
  },
  {
   "cell_type": "code",
   "execution_count": null,
   "id": "b7771229",
   "metadata": {},
   "outputs": [],
   "source": [
    "most_read_books = df_new['Book-Title'].value_counts().reset_index()\n",
    "most_read_books.columns = ['Book','Count']\n",
    "plt.figure(figsize=(12,6))\n",
    "plt.title('Most Read Books')\n",
    "sns.barplot(x = 'Count', y = 'Book', data = most_read_books.head(10))"
   ]
  },
  {
   "cell_type": "markdown",
   "id": "da93ddb9",
   "metadata": {},
   "source": [
    "### Top 10. publisher "
   ]
  },
  {
   "cell_type": "code",
   "execution_count": null,
   "id": "20405762",
   "metadata": {},
   "outputs": [],
   "source": [
    "top_publishers = df_new['Publisher'].value_counts().reset_index()\n",
    "top_publishers.columns = ['Publisher' , 'Count']\n",
    "top_publishers = top_publishers.sort_values('Count', ascending = False)\n",
    "plt.figure(figsize = (12,8))\n",
    "sns.barplot(x = 'Count', y = 'Publisher', data = top_publishers.head(10))"
   ]
  },
  {
   "cell_type": "markdown",
   "id": "d5cae431",
   "metadata": {},
   "source": [
    "### Most popular rating"
   ]
  },
  {
   "cell_type": "code",
   "execution_count": null,
   "id": "7b3d8fad",
   "metadata": {},
   "outputs": [],
   "source": [
    "plt.figure(figsize=[8,5])\n",
    "plt.rc('font', size=12)\n",
    "plt.title('\\nMost popular ratings\\n')\n",
    "sns.countplot(data=df_new, x='Book-Rating',palette='Set2')"
   ]
  },
  {
   "cell_type": "markdown",
   "id": "407f2955",
   "metadata": {},
   "source": [
    "* Most of users have given above 4 ratings to books \n",
    "* 8 is the most common rating given by users"
   ]
  },
  {
   "cell_type": "markdown",
   "id": "d55aa47b",
   "metadata": {},
   "source": [
    "### Most popular book authors"
   ]
  },
  {
   "cell_type": "code",
   "execution_count": null,
   "id": "1b24afac",
   "metadata": {},
   "outputs": [],
   "source": [
    "author = df_new.groupby('Book-Author')['Book-Rating'].count().reset_index().sort_values(by='Book-Rating', ascending=False)[:10]\n",
    "plt.figure(figsize=[8, 5])\n",
    "plt.rc('font', size=12)\n",
    "plt.title('\\nMost popular Authors\\n')\n",
    "sns.barplot(data=author, y='Book-Author', x='Book-Rating',palette='Set2')"
   ]
  },
  {
   "cell_type": "markdown",
   "id": "c50c1393",
   "metadata": {},
   "source": [
    "### Top 10 Rated books"
   ]
  },
  {
   "cell_type": "code",
   "execution_count": null,
   "id": "3a773505",
   "metadata": {},
   "outputs": [],
   "source": [
    "top_rated = df_new[['Book-Title','Book-Rating']]\n",
    "top_rated = top_rated.groupby('Book-Title', as_index = False)['Book-Rating'].mean()\n",
    "top_rated = top_rated.sort_values('Book-Rating', ascending=False).reset_index()\n",
    "top_rated = top_rated[['Book-Title','Book-Rating']]\n",
    "sns.barplot(x = 'Book-Rating', y= 'Book-Title', data = top_rated.head(10))\n",
    "plt.figure(figsize=(12,8))"
   ]
  },
  {
   "cell_type": "markdown",
   "id": "75bca93c",
   "metadata": {},
   "source": [
    "### Which year did the most books published."
   ]
  },
  {
   "cell_type": "code",
   "execution_count": null,
   "id": "1f6e3fd3",
   "metadata": {},
   "outputs": [],
   "source": [
    "books_published_per_year = df_new.groupby('Year-Of-Publication')['Book-Title'].count().reset_index()\n",
    "books_published_per_year.columns = ['Year','Book Count']\n",
    "top_years = books_published_per_year.sort_values(by='Book Count', ascending=False).head(10)\n",
    "print('Top 10 Years with the Most Published Books:')\n",
    "print(top_years)\n",
    "plt.figure(figsize=(12,8))\n",
    "sns.barplot(x = 'Year', y = 'Book Count', data = top_years.head(10), color = 'skyblue')\n",
    "plt.title('Top 10 Years with the Most Published Books', fontsize=18, fontweight='bold')\n",
    "plt.xlabel('Year', fontsize=14)\n",
    "plt.ylabel('Number of Books Published', fontsize=14)\n",
    "plt.xticks(rotation=45, ha='right')\n",
    "plt.show()"
   ]
  },
  {
   "cell_type": "markdown",
   "id": "ec448ff7",
   "metadata": {},
   "source": [
    "### countries with most readers"
   ]
  },
  {
   "cell_type": "code",
   "execution_count": null,
   "id": "fceec8f8",
   "metadata": {},
   "outputs": [],
   "source": [
    "countries = df_new.groupby('Country')['User-ID'].nunique().reset_index().sort_values(by='User-ID', ascending=False)[:10]\n",
    "sns.barplot(data=countries, y='Country', x='User-ID',palette='Set2')\n",
    "plt.xlabel('No of users')"
   ]
  },
  {
   "cell_type": "markdown",
   "id": "4ba27d35",
   "metadata": {},
   "source": [
    "* Most of the readers  are from the United States"
   ]
  },
  {
   "cell_type": "code",
   "execution_count": null,
   "id": "a862eb0d",
   "metadata": {},
   "outputs": [],
   "source": [
    "user_age = df_new.Age\n",
    "plt.figure(figsize=(12,8), tight_layout=True)\n",
    "plt.title('Numbers of users according to the age')\n",
    "sns.histplot(user_age, bins = 25, linewidth = 2, color = 'blue', edgecolor = 'black')"
   ]
  },
  {
   "cell_type": "markdown",
   "id": "7fab020c",
   "metadata": {},
   "source": [
    "* The majority of readers are between the ages of 25 and 40.\n",
    "* Readers who are 80 to 100 years old make up a tiny minority."
   ]
  },
  {
   "cell_type": "markdown",
   "id": "8a8e5e81",
   "metadata": {},
   "source": [
    "## EDA CONCLUSION"
   ]
  },
  {
   "cell_type": "markdown",
   "id": "57a07f31",
   "metadata": {},
   "source": [
    "* The Lovely Bones: A Novel and Wild Animus are the two most read books.\n",
    "* Ballantine Books and Pocket are the top publishers based on the number of ratings that their books have received.\n",
    "* 8 is the most common rating given by users\n",
    "* Most popular book author based on the number of ratings is Stephan King .\n",
    "* 2002 is the most book published year\n",
    "* The majority of readers who have given the books ratings are from the United States and Canada.* \n",
    "* The majority of readers are between the ages of 20 and 40."
   ]
  },
  {
   "cell_type": "markdown",
   "id": "c75caa3c",
   "metadata": {},
   "source": [
    "# Model Building"
   ]
  },
  {
   "cell_type": "markdown",
   "id": "222f5481",
   "metadata": {},
   "source": [
    "## Recommendation Systems"
   ]
  },
  {
   "cell_type": "code",
   "execution_count": null,
   "id": "3741bcdb",
   "metadata": {},
   "outputs": [],
   "source": [
    "rating_with_name=rating_df.merge(book_df,on='ISBN')"
   ]
  },
  {
   "cell_type": "markdown",
   "id": "baa34a32",
   "metadata": {},
   "source": [
    "### Top Rating based recommendation system."
   ]
  },
  {
   "cell_type": "code",
   "execution_count": null,
   "id": "8adbac97",
   "metadata": {},
   "outputs": [],
   "source": [
    "def most_popular(df_new, n):\n",
    "  if n >= 1 and n <= len(df_new):\n",
    "    popular = df_new.groupby('ISBN')['Book-Rating'].count().reset_index().sort_values(by='Book-Rating', ascending=False).head(n)\n",
    "    return pd.merge(popular, book_df, on='ISBN')\n",
    "  return 'Please enter a valid value of n!'"
   ]
  },
  {
   "cell_type": "code",
   "execution_count": null,
   "id": "a4ff0372",
   "metadata": {},
   "outputs": [],
   "source": [
    "most_popular(df_new, 5)"
   ]
  },
  {
   "cell_type": "markdown",
   "id": "b0433145",
   "metadata": {},
   "source": [
    "###  Country-based book recommendation"
   ]
  },
  {
   "cell_type": "code",
   "execution_count": null,
   "id": "89591313",
   "metadata": {},
   "outputs": [],
   "source": [
    "def country_popular(df_new, country):\n",
    "  if country in list(df_new.Country.unique()):\n",
    "    return most_popular(df_new[df_new['Country'] == country], 5) # calling most_popular function to get popular recommendations\n",
    "  return 'This country is not present in the dataset. Please enter some other country.'"
   ]
  },
  {
   "cell_type": "code",
   "execution_count": null,
   "id": "814d3b5f",
   "metadata": {},
   "outputs": [],
   "source": [
    "country_popular(df_new, 'usa')"
   ]
  },
  {
   "cell_type": "markdown",
   "id": "047195d1",
   "metadata": {},
   "source": [
    "###   Weighted average rating method"
   ]
  },
  {
   "cell_type": "raw",
   "id": "70a12a8c",
   "metadata": {},
   "source": [
    "Using Weighted average for each Book’s Average Rating\n",
    "\n",
    "W = (Rv + Cm)/(v + m)\n",
    "\n",
    "where\n",
    "\n",
    "W= Weighted Rating\n",
    "\n",
    "R = Average of the Books rating\n",
    "\n",
    "v = No of people who have rated the books(number of votes)\n",
    "\n",
    "m = minimum no of votes to be listed\n",
    "\n",
    "C = the mean rating across all the books"
   ]
  },
  {
   "cell_type": "markdown",
   "id": "7b0899a9",
   "metadata": {},
   "source": [
    "#### finding the average rating and number of votes received by books"
   ]
  },
  {
   "cell_type": "code",
   "execution_count": null,
   "id": "83276841",
   "metadata": {},
   "outputs": [],
   "source": [
    "df_relevant_data = df_new.groupby(['Book-Title','Book-Author'],as_index=False).agg(avg_rating=('Book-Rating','mean'),ratings_count=('Book-Rating','count'))\n",
    "v=df_relevant_data['ratings_count']\n",
    "R=df_relevant_data['avg_rating']\n",
    "C=df_relevant_data['avg_rating'].mean()\n",
    "m=int(df_relevant_data['ratings_count'].quantile(0.90))#minimum number of votes to be listed\n",
    "print(f'The average rating of all the books is {C} and the minimum number of votes required by the books to be listed is {m}  ')"
   ]
  },
  {
   "cell_type": "markdown",
   "id": "cafc5f44",
   "metadata": {},
   "source": [
    "#### Calculating weighted average rating of the books"
   ]
  },
  {
   "cell_type": "code",
   "execution_count": null,
   "id": "e446daa9",
   "metadata": {},
   "outputs": [],
   "source": [
    "df_relevant_data['weighted_average']=round(((R*v)+ (C*m))/(v+m),2)"
   ]
  },
  {
   "cell_type": "code",
   "execution_count": null,
   "id": "a275ce1f",
   "metadata": {},
   "outputs": [],
   "source": [
    "df_relevant_data.sort_values(by='weighted_average',ascending=False).head(10)"
   ]
  },
  {
   "cell_type": "markdown",
   "id": "c0ade976",
   "metadata": {},
   "source": [
    "This is the list of most favored books based on the weighted rating scores. The book 'Harry Potter and the Chamber of Secrets Postcard Book' seems to have top this chart"
   ]
  },
  {
   "cell_type": "markdown",
   "id": "3f8307a1",
   "metadata": {},
   "source": [
    "### Author based recommender system"
   ]
  },
  {
   "cell_type": "code",
   "execution_count": null,
   "id": "55b2a968",
   "metadata": {},
   "outputs": [],
   "source": [
    "def author_based(book_title,number,df_relevant_data=df_relevant_data):\n",
    "  '''\n",
    "  To recommend books from the same author as the book entered by the user\n",
    "  '''\n",
    "  author=df_relevant_data.loc[df_relevant_data['Book-Title']==book_title]['Book-Author'].unique()[0]\n",
    "  author_df=df_relevant_data.loc[(df_relevant_data['Book-Author']==author)].sort_values(by='weighted_average',ascending=False)\n",
    "  print(f'The author of the book {book_title} is {author}\\n')\n",
    "  print(f'Here are the top {number} books from the same author\\n')\n",
    "  top_rec=author_df.loc[(author_df['Book-Title']!=book_title),['Book-Title','weighted_average']].head(number)\n",
    "  return(top_rec)"
   ]
  },
  {
   "cell_type": "markdown",
   "id": "cfd947f0",
   "metadata": {},
   "source": [
    "#### get book name and number of books to recommend "
   ]
  },
  {
   "cell_type": "code",
   "execution_count": null,
   "id": "97725e0d",
   "metadata": {},
   "outputs": [],
   "source": [
    "book_title = 'Harry Potter and the Chamber of Secrets (Book 2)'\n",
    "number =5\n",
    "author_based(book_title,number)\n"
   ]
  },
  {
   "cell_type": "code",
   "execution_count": null,
   "id": "d15d182e",
   "metadata": {},
   "outputs": [],
   "source": [
    "ratings_with_name = rating_df.merge(book_df,on='ISBN')"
   ]
  },
  {
   "cell_type": "code",
   "execution_count": null,
   "id": "c6b1638d",
   "metadata": {},
   "outputs": [],
   "source": [
    "num_rating_df = ratings_with_name.groupby('Book-Title').count()['Book-Rating'].reset_index()\n",
    "num_rating_df.rename(columns={'Book-Rating':'num_ratings'},inplace=True)\n",
    "num_rating_df"
   ]
  },
  {
   "cell_type": "code",
   "execution_count": null,
   "id": "6331e5d0",
   "metadata": {},
   "outputs": [],
   "source": [
    "avg_rating_df = ratings_with_name.groupby('Book-Title').mean()['Book-Rating'].reset_index()\n",
    "avg_rating_df.rename(columns={'Book-Rating':'avg_rating'},inplace=True)\n",
    "avg_rating_df"
   ]
  },
  {
   "cell_type": "code",
   "execution_count": null,
   "id": "7f905694",
   "metadata": {},
   "outputs": [],
   "source": [
    "popular_df = num_rating_df.merge(avg_rating_df,on='Book-Title')\n",
    "popular_df"
   ]
  },
  {
   "cell_type": "code",
   "execution_count": null,
   "id": "890a4395",
   "metadata": {},
   "outputs": [],
   "source": [
    "popular_df = popular_df[popular_df['num_ratings']>=250].sort_values('avg_rating',ascending=False).head(50)"
   ]
  },
  {
   "cell_type": "code",
   "execution_count": null,
   "id": "6b584476",
   "metadata": {},
   "outputs": [],
   "source": [
    "popular_df = popular_df.merge(book_df,on='Book-Title').drop_duplicates('Book-Title')[['Book-Title','Book-Author','Image-URL-M','num_ratings','avg_rating']]\n",
    "popular_df['Image-URL-M'][0]"
   ]
  },
  {
   "cell_type": "markdown",
   "id": "ad7d8717",
   "metadata": {},
   "source": [
    "### Collaborative Filtering Based Recommendation System."
   ]
  },
  {
   "cell_type": "markdown",
   "id": "285200a9",
   "metadata": {},
   "source": [
    "Collaborative filtering techniques create a model based on past user activity (items previously purchased, movies viewed and rated, etc.) as well as usage choices made by both current and past users. Then, this model is used to predict the ratings for items or items themselves that the user might be interested in."
   ]
  },
  {
   "cell_type": "code",
   "execution_count": null,
   "id": "828fdc30",
   "metadata": {},
   "outputs": [],
   "source": [
    "from sklearn.metrics.pairwise import cosine_similarity"
   ]
  },
  {
   "cell_type": "code",
   "execution_count": null,
   "id": "9a5f9ddd",
   "metadata": {},
   "outputs": [],
   "source": [
    "df_collab = rating_with_name.groupby('User-ID').count()['Book-Title'] > 200\n",
    "df_user = df_collab[df_collab].index"
   ]
  },
  {
   "cell_type": "code",
   "execution_count": null,
   "id": "addf5d1b",
   "metadata": {},
   "outputs": [],
   "source": [
    "filtered_rating = rating_with_name[rating_with_name['User-ID'].isin(df_user)]\n",
    "filtered_rating.head()"
   ]
  },
  {
   "cell_type": "code",
   "execution_count": null,
   "id": "1e808557",
   "metadata": {},
   "outputs": [],
   "source": [
    "df_famous = filtered_rating.groupby('Book-Title').count()['Book-Rating'] >=50\n",
    "famous_book = df_famous[df_famous].index"
   ]
  },
  {
   "cell_type": "code",
   "execution_count": null,
   "id": "00ad93de",
   "metadata": {},
   "outputs": [],
   "source": [
    "final_ratings = filtered_rating[filtered_rating['Book-Title'].isin(famous_book)]"
   ]
  },
  {
   "cell_type": "code",
   "execution_count": null,
   "id": "01cffc8f",
   "metadata": {},
   "outputs": [],
   "source": [
    "final_ratings.drop_duplicates()"
   ]
  },
  {
   "cell_type": "code",
   "execution_count": null,
   "id": "d93dbe0e",
   "metadata": {},
   "outputs": [],
   "source": [
    "df_pt = final_ratings.pivot_table(index = 'Book-Title',columns = 'User-ID', values='Book-Rating' )"
   ]
  },
  {
   "cell_type": "code",
   "execution_count": null,
   "id": "e9071c42",
   "metadata": {},
   "outputs": [],
   "source": [
    "df_pt"
   ]
  },
  {
   "cell_type": "code",
   "execution_count": null,
   "id": "95f4c0e2",
   "metadata": {},
   "outputs": [],
   "source": [
    "df_pt.fillna(0, inplace = True)\n",
    "df_pt.head()"
   ]
  },
  {
   "cell_type": "code",
   "execution_count": null,
   "id": "4d1fddf9",
   "metadata": {},
   "outputs": [],
   "source": [
    "similarity_scores = cosine_similarity(df_pt)\n",
    "similarity_scores.shape"
   ]
  },
  {
   "cell_type": "code",
   "execution_count": null,
   "id": "993bf59f",
   "metadata": {},
   "outputs": [],
   "source": [
    "def recommend(book_name):\n",
    "  index = np.where(df_pt.index==book_name)[0][0]\n",
    "  similar_items  = sorted(list(enumerate(similarity_scores[index])),key=lambda x:x[1],reverse = True)[1:6]\n",
    "\n",
    "  data = []\n",
    "  for i in similar_items:\n",
    "   item = []\n",
    "   final_df = df_new[df_new['Book-Title'] == df_pt.index[i[0]]]\n",
    "   item.extend(list(final_df.drop_duplicates('Book-Title')['Book-Title'].values))\n",
    "   item.extend(list(final_df.drop_duplicates('Book-Title')['Book-Author'].values))\n",
    "   item.extend(list(final_df.drop_duplicates('Book-Title')['Image-URL-M'].values))\n",
    "\n",
    "   data.append(item)\n",
    "\n",
    "  return data"
   ]
  },
  {
   "cell_type": "code",
   "execution_count": null,
   "id": "6606dbd3",
   "metadata": {},
   "outputs": [],
   "source": [
    "recommend('1984')"
   ]
  },
  {
   "cell_type": "code",
   "execution_count": null,
   "id": "0fc22564",
   "metadata": {},
   "outputs": [],
   "source": [
    "df_pt.index[545]"
   ]
  },
  {
   "cell_type": "code",
   "execution_count": null,
   "id": "5302e18f",
   "metadata": {},
   "outputs": [],
   "source": [
    "import pickle\n",
    "pickle.dump(popular_df,open('popular.pkl','wb'))"
   ]
  },
  {
   "cell_type": "code",
   "execution_count": null,
   "id": "e44b4bfb",
   "metadata": {},
   "outputs": [],
   "source": [
    "book_df.drop_duplicates('Book-Title')"
   ]
  },
  {
   "cell_type": "code",
   "execution_count": 3,
   "id": "19e9cace",
   "metadata": {},
   "outputs": [
    {
     "ename": "NameError",
     "evalue": "name 'pickle' is not defined",
     "output_type": "error",
     "traceback": [
      "\u001b[1;31m---------------------------------------------------------------------------\u001b[0m",
      "\u001b[1;31mNameError\u001b[0m                                 Traceback (most recent call last)",
      "Cell \u001b[1;32mIn[3], line 1\u001b[0m\n\u001b[1;32m----> 1\u001b[0m \u001b[43mpickle\u001b[49m\u001b[38;5;241m.\u001b[39mdump(df_pt,\u001b[38;5;28mopen\u001b[39m(\u001b[38;5;124m'\u001b[39m\u001b[38;5;124mpt.pkl\u001b[39m\u001b[38;5;124m'\u001b[39m,\u001b[38;5;124m'\u001b[39m\u001b[38;5;124mwb\u001b[39m\u001b[38;5;124m'\u001b[39m))\n\u001b[0;32m      2\u001b[0m pickle\u001b[38;5;241m.\u001b[39mdump(book_df,\u001b[38;5;28mopen\u001b[39m(\u001b[38;5;124m'\u001b[39m\u001b[38;5;124mbooks.pkl\u001b[39m\u001b[38;5;124m'\u001b[39m,\u001b[38;5;124m'\u001b[39m\u001b[38;5;124mwb\u001b[39m\u001b[38;5;124m'\u001b[39m))\n\u001b[0;32m      3\u001b[0m pickle\u001b[38;5;241m.\u001b[39mdump(similarity_scores,\u001b[38;5;28mopen\u001b[39m(\u001b[38;5;124m'\u001b[39m\u001b[38;5;124msimilarity_scores.pkl\u001b[39m\u001b[38;5;124m'\u001b[39m,\u001b[38;5;124m'\u001b[39m\u001b[38;5;124mwb\u001b[39m\u001b[38;5;124m'\u001b[39m))\n",
      "\u001b[1;31mNameError\u001b[0m: name 'pickle' is not defined"
     ]
    }
   ],
   "source": [
    "pickle.dump(df_pt,open('pt.pkl','wb'))\n",
    "pickle.dump(book_df,open('books.pkl','wb'))\n",
    "pickle.dump(similarity_scores,open('similarity_scores.pkl','wb'))"
   ]
  },
  {
   "cell_type": "code",
   "execution_count": null,
   "id": "4905073e",
   "metadata": {},
   "outputs": [],
   "source": []
  }
 ],
 "metadata": {
  "kernelspec": {
   "display_name": "Python 3 (ipykernel)",
   "language": "python",
   "name": "python3"
  },
  "language_info": {
   "codemirror_mode": {
    "name": "ipython",
    "version": 3
   },
   "file_extension": ".py",
   "mimetype": "text/x-python",
   "name": "python",
   "nbconvert_exporter": "python",
   "pygments_lexer": "ipython3",
   "version": "3.10.9"
  }
 },
 "nbformat": 4,
 "nbformat_minor": 5
}
